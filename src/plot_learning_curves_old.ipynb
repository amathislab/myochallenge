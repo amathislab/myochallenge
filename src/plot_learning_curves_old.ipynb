{
 "cells": [
  {
   "cell_type": "code",
   "execution_count": null,
   "metadata": {},
   "outputs": [],
   "source": [
    "import os\n",
    "import pandas as pd\n",
    "import matplotlib.pyplot as plt\n",
    "import numpy as np\n",
    "from definitions import ROOT_DIR"
   ]
  },
  {
   "cell_type": "code",
   "execution_count": null,
   "metadata": {},
   "outputs": [],
   "source": [
    "paths_dict = {\n",
    "    \"hand\": {\n",
    "        \"reward\": {\n",
    "            \"correlated\": \"17-26-51_hand_pose_0.5_distance_synergy_39_embeddings_recurrent_ppo_RecurrentPPO_1_reward\",\n",
    "            \"uncorrelated\": \"17-30-41_hand_pose_0.5_distance_recurrent_ppo_RecurrentPPO_1_reward\"\n",
    "        },\n",
    "        \"solved\": {\n",
    "            \"correlated\": \"17-26-51_hand_pose_0.5_distance_synergy_39_embeddings_recurrent_ppo_RecurrentPPO_1_solved\",\n",
    "            \"uncorrelated\": \"17-30-41_hand_pose_0.5_distance_recurrent_ppo_RecurrentPPO_1_solved\"\n",
    "        }\n",
    "    },\n",
    "    \"finger\": {\n",
    "        \"reward\": {\n",
    "            \"correlated\": \"18-15-30_finger_pose_synergy_5_embeddings_recurrent_ppo_RecurrentPPO_1_reward\",\n",
    "            \"uncorrelated\": \"18-16-28_finger_pose_recurrent_ppo_RecurrentPPO_1_reward\"\n",
    "        },\n",
    "        \"solved\": {\n",
    "            \"correlated\": \"18-15-30_finger_pose_synergy_5_embeddings_recurrent_ppo_RecurrentPPO_1_solved\",\n",
    "            \"uncorrelated\": \"18-16-28_finger_pose_recurrent_ppo_RecurrentPPO_1_solved\"\n",
    "        }\n",
    "        \n",
    "    },\n",
    "    \"reorient\": {\n",
    "        \"reward\": {\n",
    "            \"correlated\": \"19-23-55_reorient_0.5pi_39_embeddings_recurrent_ppo_RecurrentPPO_1_reward\",\n",
    "            \"uncorrelated\": \"18-22-06_reorient_0.5pi_recurrent_ppo_RecurrentPPO_1_reward\"\n",
    "        },\n",
    "        \"solved\": {\n",
    "            \"correlated\": \"19-23-55_reorient_0.5pi_39_embeddings_recurrent_ppo_RecurrentPPO_1_soved\",\n",
    "            \"uncorrelated\": \"18-22-06_reorient_0.5pi_recurrent_ppo_RecurrentPPO_1_solved\"\n",
    "        }\n",
    "    }\n",
    "}"
   ]
  },
  {
   "cell_type": "code",
   "execution_count": null,
   "metadata": {},
   "outputs": [],
   "source": [
    "\n",
    "max_steps = 1.4e7\n",
    "N = 11\n",
    "for env, metric_dict in paths_dict.items():\n",
    "    for metric, noise_type_dict in metric_dict.items():\n",
    "        for noise_type, file_name in noise_type_dict.items():\n",
    "            df = pd.read_csv(os.path.join(ROOT_DIR, \"data\", \"learning_curves\", file_name + \".csv\"))\n",
    "            df = df[df.Step < max_steps]\n",
    "            plt.plot(df.Step, np.convolve(np.pad(df.Value, pad_width=int(N/2), mode=\"edge\"), np.ones(N) / N, mode=\"valid\"), label=noise_type)\n",
    "        plt.title(f\"Env: {env}, metric: {metric}\")\n",
    "        plt.legend(loc=\"lower right\")\n",
    "        out_path = os.path.join(ROOT_DIR, \"data\", \"learning_curves\", f\"{env}_{metric}\")\n",
    "        plt.savefig(out_path + \".png\", format=\"png\", dpi=300, bbox_inches='tight')\n",
    "        plt.show()"
   ]
  }
 ],
 "metadata": {
  "kernelspec": {
   "display_name": "myochallenge",
   "language": "python",
   "name": "python3"
  },
  "language_info": {
   "codemirror_mode": {
    "name": "ipython",
    "version": 3
   },
   "file_extension": ".py",
   "mimetype": "text/x-python",
   "name": "python",
   "nbconvert_exporter": "python",
   "pygments_lexer": "ipython3",
   "version": "3.9.0"
  },
  "orig_nbformat": 4,
  "vscode": {
   "interpreter": {
    "hash": "5d0a4d25e4befd24815b66d31046714b80d62d8a3ad8405cc9c17a1aaae7fba6"
   }
  }
 },
 "nbformat": 4,
 "nbformat_minor": 2
}
